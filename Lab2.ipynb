{
  "nbformat": 4,
  "nbformat_minor": 0,
  "metadata": {
    "colab": {
      "provenance": [],
      "mount_file_id": "1OANv4PES0PZ5BbcAm0NBjxxcx2mg7EHN",
      "authorship_tag": "ABX9TyM89dGt4Mb/0eMfV6SFGfgF",
      "include_colab_link": true
    },
    "kernelspec": {
      "name": "python3",
      "display_name": "Python 3"
    },
    "language_info": {
      "name": "python"
    }
  },
  "cells": [
    {
      "cell_type": "markdown",
      "metadata": {
        "id": "view-in-github",
        "colab_type": "text"
      },
      "source": [
        "<a href=\"https://colab.research.google.com/github/Abdullahbinmushtaq/AI-LAB/blob/main/Lab2.ipynb\" target=\"_parent\"><img src=\"https://colab.research.google.com/assets/colab-badge.svg\" alt=\"Open In Colab\"/></a>"
      ]
    },
    {
      "cell_type": "code",
      "execution_count": null,
      "metadata": {
        "colab": {
          "base_uri": "https://localhost:8080/"
        },
        "id": "4wkFoIhzWnkH",
        "outputId": "89da4510-42f4-46a0-e272-f9952abc5faa"
      },
      "outputs": [
        {
          "output_type": "stream",
          "name": "stdout",
          "text": [
            "Enter objects of first list ....\n",
            "Enter an integer 1\n",
            "Enter an integer 2\n",
            "Enter an integer 3\n",
            "Enter an integer 4\n",
            "Enter an integer 5\n",
            "Enter objects of Second list ....\n",
            "Enter an integer 6\n",
            "Enter an integer 7\n",
            "Enter an integer 8\n",
            "Enter an integer 9\n",
            "Enter an integer 10\n",
            "[1, 2, 3, 4, 5, 6, 7, 8, 9, 10]\n"
          ]
        }
      ],
      "source": [
        "\n",
        "mylist1=[]\n",
        "print(\"Enter objects of first list ....\")\n",
        "for i in range(5):\n",
        "  val=input(\"Enter an integer \")\n",
        "  n=int(val)\n",
        "  mylist1.append(n)\n",
        "mylist2=[]\n",
        "print(\"Enter objects of Second list ....\")\n",
        "for i in range(5):\n",
        "  val=input(\"Enter an integer \")\n",
        "  n=int(val)\n",
        "  mylist2.append(n)\n",
        "list3=mylist1+mylist2;\n",
        "print(list3)    \n"
      ]
    },
    {
      "cell_type": "code",
      "source": [
        "def isPalindrome(word):\n",
        "  temp=word[::-1]\n",
        "  if temp.capitalize()==word.capitalize():\n",
        "    return True\n",
        "  else:\n",
        "    return False  \n",
        "print(isPalindrome(\"AIM\"))    \n",
        "\n"
      ],
      "metadata": {
        "colab": {
          "base_uri": "https://localhost:8080/"
        },
        "id": "P5C6hlR6YWFM",
        "outputId": "d555cbf8-d2b9-415d-dd5f-3fbe46db70e4"
      },
      "execution_count": null,
      "outputs": [
        {
          "output_type": "stream",
          "name": "stdout",
          "text": [
            "False\n"
          ]
        }
      ]
    },
    {
      "cell_type": "code",
      "source": [
        "a=[[1,0,0],[0,1,0],[0,0,1]]\n",
        "b=[[1,2,3],[4,5,6],[7,8,9]]\n",
        "c=[];\n",
        "for indrow in range (3):\n",
        "  c.append ([])\n",
        "  for indcol in range (3):\n",
        "    c[indrow].append(0)\n",
        "    for indaux in range (3):\n",
        "      c[indrow][indcol]+=a[indrow][indaux] * b[indcol][indaux]\n",
        "print (c)\n"
      ],
      "metadata": {
        "colab": {
          "base_uri": "https://localhost:8080/"
        },
        "id": "fIGK9OYaYXHU",
        "outputId": "f0495c67-f533-4e6d-afce-d6b84acd2b0c"
      },
      "execution_count": null,
      "outputs": [
        {
          "output_type": "stream",
          "name": "stdout",
          "text": [
            "[[1, 4, 7], [2, 5, 8], [3, 6, 9]]\n"
          ]
        }
      ]
    },
    {
      "cell_type": "code",
      "source": [
        "def perimeter(listing):\n",
        "  leng=len(listing)\n",
        "  perimeter=0;\n",
        "  for i in range(0,leng-1):\n",
        "    dist=(((listing [i][0]-listing[i+1][0])**2)+((listing [i][1]-listing[i+1][1])**2))**5\n",
        "    perimeter=perimeter+dist\n",
        "  perimeter=perimeter + (((listing [0][0]-listing[leng-1][0])**2)+((listing [0][1]-listing[leng-1][1])**2))**5 \n",
        "  return perimeter\n",
        "L=[(1,3),(2,7),(3,9),(-1,8)]  \n",
        "print(perimeter(L))\n"
      ],
      "metadata": {
        "colab": {
          "base_uri": "https://localhost:8080/"
        },
        "id": "1IClw8rHYXLM",
        "outputId": "6483e34a-6967-48d5-dc8c-54c7f88bc8d7"
      },
      "execution_count": null,
      "outputs": [
        {
          "output_type": "stream",
          "name": "stdout",
          "text": [
            "23353988\n"
          ]
        }
      ]
    },
    {
      "cell_type": "code",
      "source": [
        "def symmDiff (a,b):\n",
        "  e=set()\n",
        "  for i in a:\n",
        "    print(i)\n",
        "    if i not in b:\n",
        "      e.add(i)\n",
        "  for i in b:\n",
        "    if i not in a:\n",
        "      e.add(i) \n",
        "  return e  \n",
        "set1={0,1,2,4,5}   \n",
        "set2={4,5,7,8,9}  \n",
        "print(symmDiff(set1,set2))  "
      ],
      "metadata": {
        "colab": {
          "base_uri": "https://localhost:8080/"
        },
        "id": "-X0yTKCTYXP1",
        "outputId": "7fb60da4-2442-46d3-c9fe-b87cd743d388"
      },
      "execution_count": null,
      "outputs": [
        {
          "output_type": "stream",
          "name": "stdout",
          "text": [
            "0\n",
            "1\n",
            "2\n",
            "4\n",
            "5\n",
            "{0, 1, 2, 7, 8, 9}\n"
          ]
        }
      ]
    },
    {
      "cell_type": "code",
      "source": [
        "sample={(\"sohaib\",\"ali\"):\"03119587768\",(\"ali\",\"khan\"):\"03005565789\",(\"usman\",\"rashid\"):\"03436594702\"}\n",
        "firstName=input(\"Enter first name \")\n",
        "lastName=input(\"Enter last name \")\n",
        "searchtuple=(firstName,lastName)\n",
        "if searchtuple in sample:\n",
        "  print(sample[searchtuple])\n",
        "else:\n",
        "  print(\"name not found\")  \n"
      ],
      "metadata": {
        "colab": {
          "base_uri": "https://localhost:8080/"
        },
        "id": "md2NWPOppM9b",
        "outputId": "218da9fb-6822-466d-8eba-8f52bc38f091"
      },
      "execution_count": null,
      "outputs": [
        {
          "output_type": "stream",
          "name": "stdout",
          "text": [
            "Enter first name ali\n",
            "Enter last name gul\n",
            "name not found\n"
          ]
        }
      ]
    },
    {
      "cell_type": "code",
      "source": [
        "a=[]\n",
        "b=[]\n",
        "n1=int(input(\"Enter how many elements in list1 : \"))\n",
        "for i in range(1,n1+1):\n",
        "    c=input(\"Enter element in list1 : \")\n",
        "    a.append(c)\n",
        "n2=int(input(\"Enter how many elements in list2 : \"))\n",
        "for i in range(1,n2+1):\n",
        "    d=input(\"Enter element in list1 : \")\n",
        "    b.append(d)    \n",
        "list=a+b\n",
        "list.sort()\n",
        "print(list) \n",
        " \n",
        " "
      ],
      "metadata": {
        "id": "HaJxqSkRSgMg"
      },
      "execution_count": null,
      "outputs": []
    },
    {
      "cell_type": "code",
      "source": [
        "a=[]\n",
        "b=[]\n",
        "n1=int(input(\"Enter how many elements in list1 : \"))\n",
        "for i in range(1,n1+1):\n",
        "    c=input(\"Enter element in list1 : \")\n",
        "    a.append(c)\n",
        "n2=int(input(\"Enter how many elements in list2 : \"))\n",
        "for i in range(1,n2+1):\n",
        "    d=input(\"Enter element in list1 : \")\n",
        "    b.append(d)    \n",
        "list=a+b\n",
        "list.sort()\n",
        "print(list) \n",
        " \n",
        "length = len(list)\n",
        " \n",
        "print(\"Largest element is:\", list[length-1])\n",
        "print(\"Smallest element is:\", list[0])"
      ],
      "metadata": {
        "id": "n8kPd_dbSgVt"
      },
      "execution_count": null,
      "outputs": []
    },
    {
      "cell_type": "code",
      "source": [
        "sample={(\"Usman\",\"farooq\"):\"3/6/2004\",(\"ali\",\"hassan\"):\"7/11/2002\",(\"Awais\",\"shabbir\"):\"27/5/2001\" }\n",
        "firstinformation=input(\"Enter your first information : \")\n",
        "lastname=input(\"Enter your last name : \")\n",
        "Searchtuple=(firstinformation,lastname)\n",
        "if Searchtuple in sample:\n",
        "    print(\"Your brithday date is \")\n",
        "    print(sample[Searchtuple]) \n",
        "else:\n",
        "    print(\"name not found\")     "
      ],
      "metadata": {
        "id": "dqgnks7jSgcJ"
      },
      "execution_count": null,
      "outputs": []
    },
    {
      "cell_type": "code",
      "source": [
        "sample_dict = {\n",
        "\"name\": \"Kelly\",\n",
        "\"age\": 25,\n",
        "\"salary\": 8000, \n",
        "\"city\": \"New york\"}\n",
        "firstinformation=input(\"Enter your first information : \")\n",
        "Searchtuple=(firstinformation )\n",
        "if Searchtuple in sample_dict:\n",
        "    print(\"Your second information is \")\n",
        "    print(sample_dict[Searchtuple]) \n",
        "else:\n",
        "    print(\"first information not found \")     "
      ],
      "metadata": {
        "id": "VDvRJn7ZSsZW"
      },
      "execution_count": null,
      "outputs": []
    }
  ]
}