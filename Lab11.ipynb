{
  "nbformat": 4,
  "nbformat_minor": 0,
  "metadata": {
    "colab": {
      "provenance": [],
      "authorship_tag": "ABX9TyMJVGULofv8y2ta4qtI04LO",
      "include_colab_link": true
    },
    "kernelspec": {
      "name": "python3",
      "display_name": "Python 3"
    },
    "language_info": {
      "name": "python"
    }
  },
  "cells": [
    {
      "cell_type": "markdown",
      "metadata": {
        "id": "view-in-github",
        "colab_type": "text"
      },
      "source": [
        "<a href=\"https://colab.research.google.com/github/Abdullahbinmushtaq/AI-LAB/blob/main/Lab11.ipynb\" target=\"_parent\"><img src=\"https://colab.research.google.com/assets/colab-badge.svg\" alt=\"Open In Colab\"/></a>"
      ]
    },
    {
      "cell_type": "code",
      "execution_count": 1,
      "metadata": {
        "id": "tOPavtH8RXti"
      },
      "outputs": [],
      "source": [
        " "
      ]
    },
    {
      "cell_type": "code",
      "source": [
        "from typing import Generic, TypeVar, Dict, List, Optional\n",
        "from abc import ABC, abstractmethod\n",
        "\n",
        "V = TypeVar('V') # variable type\n",
        "D = TypeVar('D') # domain type\n",
        "\n",
        "\n",
        "# Base class for all constraints\n",
        "class Constraint(Generic[V, D], ABC):\n",
        "    # The variables that the constraint is between\n",
        "    def __init__(self, variables: List[V]) -> None:\n",
        "        self.variables = variables\n",
        "\n",
        "    # Must be overridden by subclasses\n",
        "    @abstractmethod\n",
        "    def satisfied(self, assignment: Dict[V, D]) -> bool:\n",
        "        ...\n",
        "\n",
        "\n",
        "# A constraint satisfaction problem consists of variables of type V\n",
        "# that have ranges of values known as domains of type D and constraints\n",
        "# that determine whether a particular variable's domain selection is valid\n",
        "class CSP(Generic[V, D]):\n",
        "    def __init__(self, variables: List[V], domains: Dict[V, List[D]]) -> None:\n",
        "        self.variables: List[V] = variables # variables to be constrained\n",
        "        self.domains: Dict[V, List[D]] = domains # domain of each variable\n",
        "        self.constraints: Dict[V, List[Constraint[V, D]]] = {}\n",
        "        for variable in self.variables:\n",
        "            self.constraints[variable] = []\n",
        "            if variable not in self.domains:\n",
        "                raise LookupError(\"Every variable should have a domain assigned to it.\")\n",
        "\n",
        "    def add_constraint(self, constraint: Constraint[V, D]) -> None:\n",
        "        for variable in constraint.variables:\n",
        "            if variable not in self.variables:\n",
        "                raise LookupError(\"Variable in constraint not in CSP\")\n",
        "            else:\n",
        "                self.constraints[variable].append(constraint)\n",
        "\n",
        "    # Check if the value assignment is consistent by checking all constraints\n",
        "    # for the given variable against it\n",
        "    def consistent(self, variable: V, assignment: Dict[V, D]) -> bool:\n",
        "        for constraint in self.constraints[variable]:\n",
        "            if not constraint.satisfied(assignment):\n",
        "                return False\n",
        "        return True\n",
        "\n",
        "    def backtracking_search(self, assignment: Dict[V, D] = {}) -> Optional[Dict[V, D]]:\n",
        "        # assignment is complete if every variable is assigned (our base case)\n",
        "        if len(assignment) == len(self.variables):\n",
        "            return assignment\n",
        "\n",
        "        # get all variables in the CSP but not in the assignment\n",
        "        unassigned: List[V] = [v for v in self.variables if v not in assignment]\n",
        "\n",
        "        # get the every possible domain value of the first unassigned variable\n",
        "        first: V = unassigned[0]\n",
        "        for value in self.domains[first]:\n",
        "            local_assignment = assignment.copy()\n",
        "            local_assignment[first] = value\n",
        "            # if we're still consistent, we recurse (continue)\n",
        "            if self.consistent(first, local_assignment):\n",
        "                result: Optional[Dict[V, D]] = self.backtracking_search(local_assignment)\n",
        "                # if we didn't find the result, we will end up backtracking\n",
        "                if result is not None:\n",
        "                    return result\n",
        "        return None"
      ],
      "metadata": {
        "id": "52ncpu-HSDf7"
      },
      "execution_count": 10,
      "outputs": []
    },
    {
      "cell_type": "code",
      "source": [
        "from typing import Dict, List, Optional\n",
        "\n",
        "\n",
        "class MapColoringConstraint(Constraint[str, str]):\n",
        "    def __init__(self, place1: str, place2: str) -> None:\n",
        "        super().__init__([place1, place2])\n",
        "        self.place1: str = place1\n",
        "        self.place2: str = place2\n",
        "\n",
        "    def satisfied(self, assignment: Dict[str, str]) -> bool:\n",
        "        # If either place is not in the assignment then it is not\n",
        "        # yet possible for their colors to be conflicting\n",
        "        if self.place1 not in assignment or self.place2 not in assignment:\n",
        "            return True\n",
        "        # check the color assigned to place1 is not the same as the\n",
        "        # color assigned to place2\n",
        "        return assignment[self.place1] != assignment[self.place2]\n",
        "\n",
        "\n",
        "if __name__ == \"__main__\":\n",
        "    variables: List[str] = [\"Western Australia\", \"Northern Territory\", \"South Australia\",\n",
        "                            \"Queensland\", \"New South Wales\", \"Victoria\", \"Tasmania\"]\n",
        "    domains: Dict[str, List[str]] = {}\n",
        "    for variable in variables:\n",
        "        domains[variable] = [\"red\", \"green\", \"blue\"]\n",
        "    csp: CSP[str, str] = CSP(variables, domains)\n",
        "    csp.add_constraint(MapColoringConstraint(\"Western Australia\", \"Northern Territory\"))\n",
        "    csp.add_constraint(MapColoringConstraint(\"Western Australia\", \"South Australia\"))\n",
        "    csp.add_constraint(MapColoringConstraint(\"South Australia\", \"Northern Territory\"))\n",
        "    csp.add_constraint(MapColoringConstraint(\"Queensland\", \"Northern Territory\"))\n",
        "    csp.add_constraint(MapColoringConstraint(\"Queensland\", \"South Australia\"))\n",
        "    csp.add_constraint(MapColoringConstraint(\"Queensland\", \"New South Wales\"))\n",
        "    csp.add_constraint(MapColoringConstraint(\"New South Wales\", \"South Australia\"))\n",
        "    csp.add_constraint(MapColoringConstraint(\"Victoria\", \"South Australia\"))\n",
        "    csp.add_constraint(MapColoringConstraint(\"Victoria\", \"New South Wales\"))\n",
        "    csp.add_constraint(MapColoringConstraint(\"Victoria\", \"Tasmania\"))\n",
        "    solution: Optional[Dict[str, str]] = csp.backtracking_search()\n",
        "    if solution is None:\n",
        "        print(\"No solution found!\")\n",
        "    else:\n",
        "        print(solution)\n"
      ],
      "metadata": {
        "colab": {
          "base_uri": "https://localhost:8080/"
        },
        "id": "I8XT8LVGXE-B",
        "outputId": "0e18417e-a955-4aa6-c320-a5b9e0064d20"
      },
      "execution_count": 9,
      "outputs": [
        {
          "output_type": "stream",
          "name": "stdout",
          "text": [
            "{'Western Australia': 'red', 'Northern Territory': 'green', 'South Australia': 'blue', 'Queensland': 'red', 'New South Wales': 'green', 'Victoria': 'red', 'Tasmania': 'green'}\n"
          ]
        }
      ]
    },
    {
      "cell_type": "code",
      "source": [
        "from typing import Dict, List, Optional\n",
        "\n",
        "\n",
        "class QueensConstraint(Constraint[int, int]):\n",
        "    def __init__(self, columns: List[int]) -> None:\n",
        "        super().__init__(columns)\n",
        "        self.columns: List[int] = columns\n",
        "\n",
        "    def satisfied(self, assignment: Dict[int, int]) -> bool:\n",
        "        # q1c = queen 1 column, q1r = queen 1 row\n",
        "        for q1c, q1r in assignment.items():\n",
        "            # q2c = queen 2 column\n",
        "            for q2c in range(q1c + 1, len(self.columns) + 1):\n",
        "                if q2c in assignment:\n",
        "                    q2r: int = assignment[q2c] # q2r = queen 2 row\n",
        "                    if q1r == q2r: # same row?\n",
        "                        return False\n",
        "                    if abs(q1r - q2r) == abs(q1c - q2c): # same diagonal?\n",
        "                        return False\n",
        "        return True # no conflict\n",
        "\n",
        "\n",
        "if __name__ == \"__main__\":\n",
        "    columns: List[int] = [1, 2, 3, 4, 5, 6, 7, 8]\n",
        "    rows: Dict[int, List[int]] = {}\n",
        "    for column in columns:\n",
        "        rows[column] = [1, 2, 3, 4, 5, 6, 7, 8]\n",
        "    csp: CSP[int, int] = CSP(columns, rows)\n",
        "    csp.add_constraint(QueensConstraint(columns))\n",
        "    solution: Optional[Dict[int, int]] = csp.backtracking_search()\n",
        "    if solution is None:\n",
        "        print(\"No solution found!\")\n",
        "    else:\n",
        "        print(solution)\n"
      ],
      "metadata": {
        "colab": {
          "base_uri": "https://localhost:8080/"
        },
        "id": "7vGLgeZIXTef",
        "outputId": "988565cb-c7e9-42d9-a607-d7962d9fc92e"
      },
      "execution_count": 6,
      "outputs": [
        {
          "output_type": "stream",
          "name": "stdout",
          "text": [
            "{1: 1, 2: 5, 3: 8, 4: 6, 5: 3, 6: 7, 7: 2, 8: 4}\n"
          ]
        }
      ]
    },
    {
      "cell_type": "code",
      "source": [
        "from typing import Dict, List, Optional\n",
        "\n",
        "\n",
        "class SendMoreMoneyConstraint(Constraint[str, int]):\n",
        "    def __init__(self, letters: List[str]) -> None:\n",
        "        super().__init__(letters)\n",
        "        self.letters: List[str] = letters\n",
        "\n",
        "    def satisfied(self, assignment: Dict[str, int]) -> bool:\n",
        "        # if there are duplicate values then it's not a solution\n",
        "        if len(set(assignment.values())) < len(assignment):\n",
        "            return False\n",
        "\n",
        "        # if all variables have been assigned, check if it adds correctly\n",
        "        if len(assignment) == len(self.letters):\n",
        "            s: int = assignment[\"S\"]\n",
        "            e: int = assignment[\"E\"]\n",
        "            n: int = assignment[\"N\"]\n",
        "            d: int = assignment[\"D\"]\n",
        "            m: int = assignment[\"M\"]\n",
        "            o: int = assignment[\"O\"]\n",
        "            r: int = assignment[\"R\"]\n",
        "            y: int = assignment[\"Y\"]\n",
        "            send: int = s * 1000 + e * 100 + n * 10 + d\n",
        "            more: int = m * 1000 + o * 100 + r * 10 + e\n",
        "            money: int = m * 10000 + o * 1000 + n * 100 + e * 10 + y\n",
        "            return send + more == money\n",
        "        return True # no conflict\n",
        "\n",
        "\n",
        "if __name__ == \"__main__\":\n",
        "    letters: List[str] = [\"S\", \"E\", \"N\", \"D\", \"M\", \"O\", \"R\", \"Y\"]\n",
        "    possible_digits: Dict[str, List[int]] = {}\n",
        "    for letter in letters:\n",
        "        possible_digits[letter] = [0, 1, 2, 3, 4, 5, 6, 7, 8, 9]\n",
        "    possible_digits[\"M\"] = [1]  # so we don't get answers starting with a 0\n",
        "    csp: CSP[str, int] = CSP(letters, possible_digits)\n",
        "    csp.add_constraint(SendMoreMoneyConstraint(letters))\n",
        "    solution: Optional[Dict[str, int]] = csp.backtracking_search()\n",
        "    if solution is None:\n",
        "        print(\"No solution found!\")\n",
        "    else:\n",
        "        print(solution)\n",
        "     \n"
      ],
      "metadata": {
        "colab": {
          "base_uri": "https://localhost:8080/"
        },
        "id": "ef-pWNQYXZ7-",
        "outputId": "822a8cad-d796-43fb-903a-feff722226c2"
      },
      "execution_count": 7,
      "outputs": [
        {
          "output_type": "stream",
          "name": "stdout",
          "text": [
            "{'S': 9, 'E': 5, 'N': 6, 'D': 7, 'M': 1, 'O': 0, 'R': 8, 'Y': 2}\n"
          ]
        }
      ]
    },
    {
      "cell_type": "code",
      "source": [
        "from typing import NamedTuple, List, Dict, Optional\n",
        "from random import choice\n",
        "from string import ascii_uppercase\n",
        "#from csp import CSP, Constraint\n",
        "\n",
        "Grid = List[List[str]]  # type alias for grids\n",
        "\n",
        "\n",
        "class GridLocation(NamedTuple):\n",
        "    row: int\n",
        "    column: int\n",
        "\n",
        "\n",
        "def generate_grid(rows: int, columns: int) -> Grid:\n",
        "    # initialize grid with random letters\n",
        "    return [[choice(ascii_uppercase) for c in range(columns)] for r in range(rows)]\n",
        "\n",
        "\n",
        "def display_grid(grid: Grid) -> None:\n",
        "    for row in grid:\n",
        "        print(\"\".join(row))\n",
        "\n",
        "\n",
        "def generate_domain(word: str, grid: Grid) -> List[List[GridLocation]]:\n",
        "    domain: List[List[GridLocation]] = []\n",
        "    height: int = len(grid)\n",
        "    width: int = len(grid[0])\n",
        "    length: int = len(word)\n",
        "    for row in range(height):\n",
        "        for col in range(width):\n",
        "            columns: range = range(col, col + length)\n",
        "            rows: range = range(row, row + length)\n",
        "            if col + length <= width:\n",
        "                # left to right\n",
        "                domain.append([GridLocation(row, c) for c in columns])\n",
        "                # diagonal towards bottom right\n",
        "                if row + length <= height:\n",
        "                    domain.append([GridLocation(r, col + (r - row)) for r in rows])\n",
        "            if row + length <= height:\n",
        "                # top to bottom\n",
        "                domain.append([GridLocation(r, col) for r in rows])\n",
        "                # diagonal towards bottom left\n",
        "                if col - length >= 0:\n",
        "                    domain.append([GridLocation(r, col - (r - row)) for r in rows])\n",
        "    return domain\n",
        "\n",
        "\n",
        "class WordSearchConstraint(Constraint[str, List[GridLocation]]):\n",
        "    def __init__(self, words: List[str]) -> None:\n",
        "        super().__init__(words)\n",
        "        self.words: List[str] = words\n",
        "\n",
        "    def satisfied(self, assignment: Dict[str, List[GridLocation]]) -> bool:\n",
        "        # if there are any duplicates grid locations then there is an overlap\n",
        "        all_locations = [locs for values in assignment.values() for locs in values]\n",
        "        return len(set(all_locations)) == len(all_locations)\n",
        "\n",
        "\n",
        "if __name__ == \"__main__\":\n",
        "    grid: Grid = generate_grid(9, 9)\n",
        "    words: List[str] = [\"MATTHEW\", \"JOE\", \"MARY\", \"SARAH\", \"SALLY\"]\n",
        "    locations: Dict[str, List[List[GridLocation]]] = {}\n",
        "    for word in words:\n",
        "        locations[word] = generate_domain(word, grid)\n",
        "    csp: CSP[str, List[GridLocation]] = CSP(words, locations)\n",
        "    csp.add_constraint(WordSearchConstraint(words))\n",
        "    solution: Optional[Dict[str, List[GridLocation]]] = csp.backtracking_search()\n",
        "    if solution is None:\n",
        "        print(\"No solution found!\")\n",
        "    else:\n",
        "        for word, grid_locations in solution.items():\n",
        "            # random reverse half the time\n",
        "            if choice([True, False]):\n",
        "                grid_locations.reverse()\n",
        "            for index, letter in enumerate(word):\n",
        "                (row, col) = (grid_locations[index].row, grid_locations[index].column)\n",
        "                grid[row][col] = letter\n",
        "        display_grid(grid)\n",
        "     \n"
      ],
      "metadata": {
        "colab": {
          "base_uri": "https://localhost:8080/"
        },
        "id": "UD0wtwijXjym",
        "outputId": "274f96e9-e1f6-41bb-88a5-fb231ee44654"
      },
      "execution_count": 8,
      "outputs": [
        {
          "output_type": "stream",
          "name": "stdout",
          "text": [
            "MATTHEWJY\n",
            "HARASSFOR\n",
            "TQYPTABEA\n",
            "AVRPHLTYM\n",
            "ZQSKYLEBQ\n",
            "ZEELLYKRB\n",
            "RFFTBCZOV\n",
            "AAOSKCICE\n",
            "CTDYXQUPC\n"
          ]
        }
      ]
    }
  ]
}