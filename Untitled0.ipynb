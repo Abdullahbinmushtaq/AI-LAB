{
  "nbformat": 4,
  "nbformat_minor": 0,
  "metadata": {
    "colab": {
      "provenance": [],
      "collapsed_sections": [],
      "authorship_tag": "ABX9TyNuhXFDRRoWCyjFseUgrH4K",
      "include_colab_link": true
    },
    "kernelspec": {
      "name": "python3",
      "display_name": "Python 3"
    },
    "language_info": {
      "name": "python"
    }
  },
  "cells": [
    {
      "cell_type": "markdown",
      "metadata": {
        "id": "view-in-github",
        "colab_type": "text"
      },
      "source": [
        "<a href=\"https://colab.research.google.com/github/Abdullahbinmushtaq/AI-LAB/blob/main/Untitled0.ipynb\" target=\"_parent\"><img src=\"https://colab.research.google.com/assets/colab-badge.svg\" alt=\"Open In Colab\"/></a>"
      ]
    },
    {
      "cell_type": "code",
      "execution_count": null,
      "metadata": {
        "colab": {
          "base_uri": "https://localhost:8080/"
        },
        "id": "5hCWi2SrqZ8q",
        "outputId": "8d997102-8d20-46f0-f147-431bc5ae05dd"
      },
      "outputs": [
        {
          "output_type": "stream",
          "name": "stdout",
          "text": [
            "Activity 1\n",
            "Enter a number 8\n",
            "Given number is even \n"
          ]
        }
      ],
      "source": [
        "print (\"Activity 1\")\n",
        "n=input(\"Enter a number \")\n",
        "if int(n)%2==0:\n",
        "    print(\"Given number is even \")\n",
        "else:\n",
        "    print(\"Given number is Odd \")"
      ]
    },
    {
      "cell_type": "code",
      "source": [
        "print (\"Activity 2\")\n",
        "sum=0\n",
        "s=input(\"Enter an integer\")\n",
        "n=int(s)\n",
        "while n!=0:j\n",
        "    sum=sum+n\n",
        "    s=input(\"Enter an integer value...\")\n",
        "    n=int(s)\n",
        "print(\"Sum of given value is\",sum)"
      ],
      "metadata": {
        "colab": {
          "base_uri": "https://localhost:8080/"
        },
        "id": "QcNHewmOqsep",
        "outputId": "0d22f491-2f2f-4fbf-819d-cc0f48a7a5a4"
      },
      "execution_count": null,
      "outputs": [
        {
          "output_type": "stream",
          "name": "stdout",
          "text": [
            "Activity 2\n",
            "Enter an integer2\n",
            "Enter an integer value...2\n",
            "Enter an integer value...0\n",
            "Sum of given value is 4\n"
          ]
        }
      ]
    },
    {
      "cell_type": "code",
      "source": [
        "   \n",
        "print (\"Activity 3\")\n",
        "isprime = True\n",
        "i=2\n",
        "n=int(input(\"enter an integer\"))\n",
        "while i<n:\n",
        "    rem=n%i\n",
        "    if rem==0:\n",
        "        isPrime=False\n",
        "        break\n",
        "    else:\n",
        "        i=i+1\n",
        "if isprime:\n",
        "    print(\"Number is prime\")\n",
        "else:\n",
        "    print(\"Number is not prime\")\n"
      ],
      "metadata": {
        "colab": {
          "base_uri": "https://localhost:8080/"
        },
        "id": "oQsTmD8eqstQ",
        "outputId": "02594a2d-8a75-4aba-b065-1001aeed0508"
      },
      "execution_count": null,
      "outputs": [
        {
          "output_type": "stream",
          "name": "stdout",
          "text": [
            "Activity 3\n",
            "enter an integer3\n",
            "Number is prime\n"
          ]
        }
      ]
    },
    {
      "cell_type": "code",
      "source": [
        "print (\"Activity 4\")\n",
        "sum=0\n",
        "i=0\n",
        "while i<=4:\n",
        "    s=input(\"enter a number\")\n",
        "    n=int(s)\n",
        "    sum=sum+n\n",
        "    i=i+1\n",
        "print(\"Sum is\",sum)  \n"
      ],
      "metadata": {
        "colab": {
          "base_uri": "https://localhost:8080/"
        },
        "id": "y4Qm_5Msqs34",
        "outputId": "2e6857b6-9f72-431c-e58a-87c9a9217486"
      },
      "execution_count": null,
      "outputs": [
        {
          "output_type": "stream",
          "name": "stdout",
          "text": [
            "Activity 4\n",
            "enter a number2\n",
            "enter a number3\n",
            "enter a number0\n",
            "enter a number4\n",
            "enter a number6\n",
            "Sum is 15\n"
          ]
        }
      ]
    },
    {
      "cell_type": "code",
      "source": [
        "print (\"Activity 5\")\n",
        "summatation=0\n",
        "i=1\n",
        "while i<=10:\n",
        "    summatation=summatation+i\n",
        "    i=i+1\n",
        "print(\"Sum is\",summatation)"
      ],
      "metadata": {
        "colab": {
          "base_uri": "https://localhost:8080/"
        },
        "id": "dEoVPt3hwkej",
        "outputId": "7b8ae969-3e52-4965-c408-e8e019b3fac9"
      },
      "execution_count": null,
      "outputs": [
        {
          "output_type": "stream",
          "name": "stdout",
          "text": [
            "Activity 5\n",
            "Sum is 55\n"
          ]
        }
      ]
    },
    {
      "cell_type": "code",
      "source": [
        "print (\"Activity 6\")\n",
        "name=input(\"what is your name?\")\n",
        "print(\"Hello\"+name)\n",
        "job=input(\"what is your job?\")\n",
        "print(\"Your job is\"+job)\n",
        "num=input(\"Give me a no.?\")\n",
        "print(\"You said\"+str(num))"
      ],
      "metadata": {
        "colab": {
          "base_uri": "https://localhost:8080/"
        },
        "id": "_hqUnoQAwkjo",
        "outputId": "13705266-d498-4e3e-a178-6d0835bbc103"
      },
      "execution_count": null,
      "outputs": [
        {
          "output_type": "stream",
          "name": "stdout",
          "text": [
            "Activity 6\n",
            "what is your name?Abdullah\n",
            "HelloAbdullah\n",
            "what is your job?coding\n",
            "Your job iscoding\n",
            "Give me a no.?123\n",
            "You said123\n"
          ]
        }
      ]
    },
    {
      "cell_type": "code",
      "source": [
        "print (\"Activity 7\")\n",
        "import random\n",
        "Max=1\n",
        "Min=9\n",
        "NUMBER=random.randint(Max,Min)\n",
        "Guess=None\n",
        "Another=None\n",
        "Try=0\n",
        "Running=True\n",
        "print (\"Alright\")\n",
        "while Running:\n",
        "    Guess=input(\"What is your lucky no\")\n",
        "    if int(Guess)<NUMBER:\n",
        "        print(\"wrong ,too low.\")\n",
        "    elif int(Guess)>NUMBER :\n",
        "        print(\"wrong ,too high.\")\n",
        "    elif Guess.lower()==\"exit\":\n",
        "        print(\"Better luck next time\")\n",
        "    elif int(Guess)==NUMBER:\n",
        "        print (\"Yes,that the one,%s.\"%str(NUMBER))\n",
        "        if Try<2:\n",
        "            print(\"Impressive only %s tries\"%str(Try))\n",
        "        elif (Try>2 and Try<10):\n",
        "            print(\"Pretty good,%s tries\"%str(Try))\n",
        "        else:\n",
        "            print(\"bad , %s tries\"%str(Try))\n",
        "        Running =False\n",
        "    Try+=1 "
      ],
      "metadata": {
        "colab": {
          "base_uri": "https://localhost:8080/"
        },
        "id": "xmf_qpEtwkmr",
        "outputId": "ad63faef-ee5d-4283-b46f-323a0be76dc9"
      },
      "execution_count": null,
      "outputs": [
        {
          "output_type": "stream",
          "name": "stdout",
          "text": [
            "Activity 7\n",
            "Alright\n",
            "What is your lucky no9\n",
            "wrong ,too high.\n",
            "What is your lucky no0\n",
            "wrong ,too low.\n",
            "What is your lucky no1\n",
            "Yes,that the one,1.\n",
            "bad , 2 tries\n"
          ]
        }
      ]
    },
    {
      "cell_type": "code",
      "source": [],
      "metadata": {
        "id": "3QOySCr3wkpI"
      },
      "execution_count": null,
      "outputs": []
    }
  ]
}