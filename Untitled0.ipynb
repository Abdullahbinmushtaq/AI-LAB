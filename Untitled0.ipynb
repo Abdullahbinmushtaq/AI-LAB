{
  "nbformat": 4,
  "nbformat_minor": 0,
  "metadata": {
    "colab": {
      "provenance": [],
      "collapsed_sections": [],
      "authorship_tag": "ABX9TyPHXfHKMjZLuzFz2GUWXPUY",
      "include_colab_link": true
    },
    "kernelspec": {
      "name": "python3",
      "display_name": "Python 3"
    },
    "language_info": {
      "name": "python"
    }
  },
  "cells": [
    {
      "cell_type": "markdown",
      "metadata": {
        "id": "view-in-github",
        "colab_type": "text"
      },
      "source": [
        "<a href=\"https://colab.research.google.com/github/Abdullahbinmushtaq/AI-LAB/blob/main/Untitled0.ipynb\" target=\"_parent\"><img src=\"https://colab.research.google.com/assets/colab-badge.svg\" alt=\"Open In Colab\"/></a>"
      ]
    },
    {
      "cell_type": "code",
      "execution_count": null,
      "metadata": {
        "colab": {
          "base_uri": "https://localhost:8080/"
        },
        "id": "5hCWi2SrqZ8q",
        "outputId": "8d997102-8d20-46f0-f147-431bc5ae05dd"
      },
      "outputs": [
        {
          "output_type": "stream",
          "name": "stdout",
          "text": [
            "Activity 1\n",
            "Enter a number 8\n",
            "Given number is even \n"
          ]
        }
      ],
      "source": [
        "print (\"Activity 1\")\n",
        "n=input(\"Enter a number \")\n",
        "if int(n)%2==0:\n",
        "    print(\"Given number is even \")\n",
        "else:\n",
        "    print(\"Given number is Odd \")"
      ]
    },
    {
      "cell_type": "code",
      "source": [
        "print (\"Activity 2\")\n",
        "sum=0\n",
        "s=input(\"Enter an integer\")\n",
        "n=int(s)\n",
        "while n!=0: \n",
        "    sum=sum+n\n",
        "    s=input(\"Enter an integer value...\")\n",
        "    n=int(s)\n",
        "print(\"Sum of given value is\",sum)"
      ],
      "metadata": {
        "colab": {
          "base_uri": "https://localhost:8080/"
        },
        "id": "QcNHewmOqsep",
        "outputId": "2c799472-6a8a-45b7-f89b-155aea4aa60a"
      },
      "execution_count": null,
      "outputs": [
        {
          "output_type": "stream",
          "name": "stdout",
          "text": [
            "Activity 2\n",
            "Enter an integer3\n",
            "Enter an integer value...10\n",
            "Enter an integer value...2\n",
            "Enter an integer value...0\n",
            "Sum of given value is 15\n"
          ]
        }
      ]
    },
    {
      "cell_type": "code",
      "source": [
        "   \n",
        "print (\"Activity 3\")\n",
        "isprime = True\n",
        "i=2\n",
        "n=int(input(\"enter an integer \"))\n",
        "while i<n:\n",
        "    rem=n%i\n",
        "    if rem==0:\n",
        "        isPrime=False\n",
        "        break\n",
        "    else:\n",
        "         i=i+1\n",
        "if isprime:\n",
        "    print(\"Number is prime\")\n",
        "else:\n",
        "    print(\"Number is not prime\")\n"
      ],
      "metadata": {
        "colab": {
          "base_uri": "https://localhost:8080/"
        },
        "id": "oQsTmD8eqstQ",
        "outputId": "d840321b-4053-4c76-beef-dac97a74a4f6"
      },
      "execution_count": null,
      "outputs": [
        {
          "output_type": "stream",
          "name": "stdout",
          "text": [
            "Activity 3\n",
            "enter an integer 5\n",
            "Number is prime\n"
          ]
        }
      ]
    },
    {
      "cell_type": "code",
      "source": [
        "print (\"Activity 4\")\n",
        "sum=0\n",
        "i=0\n",
        "while i<=4:\n",
        "    s=input(\"enter a number\")\n",
        "    n=int(s)\n",
        "    sum=sum+n\n",
        "    i=i+1\n",
        "print(\"Sum is\",sum)  \n"
      ],
      "metadata": {
        "colab": {
          "base_uri": "https://localhost:8080/"
        },
        "id": "y4Qm_5Msqs34",
        "outputId": "736263d2-71d6-4b02-a095-b193778dbd7c"
      },
      "execution_count": null,
      "outputs": [
        {
          "output_type": "stream",
          "name": "stdout",
          "text": [
            "Activity 4\n",
            "enter a number3\n",
            "enter a number3\n",
            "enter a number3\n",
            "enter a number3\n",
            "enter a number3\n",
            "Sum is 15\n"
          ]
        }
      ]
    },
    {
      "cell_type": "code",
      "source": [
        "print (\"Activity 5\")\n",
        "summatation=0\n",
        "i=1\n",
        "while i<=10:\n",
        "    summatation=summatation+i\n",
        "    i=i+1\n",
        "print(\"Sum is\",summatation)"
      ],
      "metadata": {
        "colab": {
          "base_uri": "https://localhost:8080/"
        },
        "id": "dEoVPt3hwkej",
        "outputId": "7b8ae969-3e52-4965-c408-e8e019b3fac9"
      },
      "execution_count": null,
      "outputs": [
        {
          "output_type": "stream",
          "name": "stdout",
          "text": [
            "Activity 5\n",
            "Sum is 55\n"
          ]
        }
      ]
    },
    {
      "cell_type": "code",
      "source": [
        "print (\"Activity 6\")\n",
        "name=input(\"what is your name?\")\n",
        "print(\"Hello\"+name)\n",
        "job=input(\"what is your job?\")\n",
        "print(\"Your job is\"+job)\n",
        "num=input(\"Give me a no.?\")\n",
        "print(\"You said\"+str(num))"
      ],
      "metadata": {
        "colab": {
          "base_uri": "https://localhost:8080/"
        },
        "id": "_hqUnoQAwkjo",
        "outputId": "13705266-d498-4e3e-a178-6d0835bbc103"
      },
      "execution_count": null,
      "outputs": [
        {
          "output_type": "stream",
          "name": "stdout",
          "text": [
            "Activity 6\n",
            "what is your name?Abdullah\n",
            "HelloAbdullah\n",
            "what is your job?coding\n",
            "Your job iscoding\n",
            "Give me a no.?123\n",
            "You said123\n"
          ]
        }
      ]
    },
    {
      "cell_type": "code",
      "source": [
        "print (\"Activity 7\")\n",
        "import random\n",
        "Max=1\n",
        "Min=9\n",
        "NUMBER=random.randint(Max,Min)\n",
        "Guess=None\n",
        "Another=None\n",
        "Try=0\n",
        "Running=True\n",
        "print (\"Alright\")\n",
        "while Running:\n",
        "    Guess=input(\"What is your lucky no\")\n",
        "    if int(Guess)<NUMBER:\n",
        "        print(\"wrong ,too low.\")\n",
        "    elif int(Guess)>NUMBER :\n",
        "        print(\"wrong ,too high.\")\n",
        "    elif Guess.lower()==\"exit\":\n",
        "        print(\"Better luck next time\")\n",
        "    elif int(Guess)==NUMBER:\n",
        "        print (\"Yes,that the one,%s.\"%str(NUMBER))\n",
        "        if Try<2:\n",
        "            print(\"Impressive only %s tries\"%str(Try))\n",
        "        elif (Try>2 and Try<10):\n",
        "            print(\"Pretty good,%s tries\"%str(Try))\n",
        "        else:\n",
        "            print(\"bad , %s tries\"%str(Try))\n",
        "        Running =False\n",
        "    Try+=1 "
      ],
      "metadata": {
        "colab": {
          "base_uri": "https://localhost:8080/"
        },
        "id": "xmf_qpEtwkmr",
        "outputId": "ad63faef-ee5d-4283-b46f-323a0be76dc9"
      },
      "execution_count": null,
      "outputs": [
        {
          "output_type": "stream",
          "name": "stdout",
          "text": [
            "Activity 7\n",
            "Alright\n",
            "What is your lucky no9\n",
            "wrong ,too high.\n",
            "What is your lucky no0\n",
            "wrong ,too low.\n",
            "What is your lucky no1\n",
            "Yes,that the one,1.\n",
            "bad , 2 tries\n"
          ]
        }
      ]
    },
    {
      "cell_type": "code",
      "source": [
        "print(\"Lab activity 1\")\n",
        " \n",
        "x=input( \"Enter the number that you want reverse : \")\n",
        "print(\"Reverse no is \")\n",
        "print(str(x)[::-1])\n",
        "\n",
        "\n"
      ],
      "metadata": {
        "id": "3QOySCr3wkpI",
        "colab": {
          "base_uri": "https://localhost:8080/"
        },
        "outputId": "3ba091ed-6baa-4d25-8e0f-8719abb80547"
      },
      "execution_count": null,
      "outputs": [
        {
          "output_type": "stream",
          "name": "stdout",
          "text": [
            "Lab activity 1\n",
            "Enter the number that you want reverse : 345\n",
            "Reverse no is \n",
            "543\n"
          ]
        }
      ]
    },
    {
      "cell_type": "code",
      "source": [
        "NumList = []\n",
        "Even_Sum = 0\n",
        "Odd_Sum = 0\n",
        "\n",
        "Number = int(input(\"Please enter the Total Number of List Elements: \"))\n",
        "for i in range(1, Number + 1):\n",
        "    value = int(input(\"Please enter the Value of %d Element : \" %i))\n",
        "    NumList.append(value)\n",
        "\n",
        "for j in range(Number):\n",
        "    if(NumList[j] % 2 == 0):\n",
        "        Even_Sum = Even_Sum + NumList[j]\n",
        "    else:\n",
        "        Odd_Sum = Odd_Sum + NumList[j]\n",
        "\n",
        "print(\"\\nThe Sum of Even Numbers in this List =  \", Even_Sum)\n",
        "print(\"The Sum of Odd Numbers in this List =  \", Odd_Sum)"
      ],
      "metadata": {
        "colab": {
          "base_uri": "https://localhost:8080/"
        },
        "id": "KBuVD-qKcKAT",
        "outputId": "0b34083e-3d3f-4eee-f396-f5c5719a2407"
      },
      "execution_count": null,
      "outputs": [
        {
          "output_type": "stream",
          "name": "stdout",
          "text": [
            "Please enter the Total Number of List Elements: 3\n",
            "Please enter the Value of 1 Element : 5\n",
            "Please enter the Value of 2 Element : 6\n",
            "Please enter the Value of 3 Element : 5\n",
            "\n",
            "The Sum of Even Numbers in this List =   6\n",
            "The Sum of Odd Numbers in this List =   10\n"
          ]
        }
      ]
    },
    {
      "cell_type": "code",
      "source": [
        "# Enter number of terms needed                   #0,1,1,2,3,5....\n",
        "print(\"Lab activity 3\")\n",
        "a=int(input(\"Enter the terms : \"))\n",
        "f=0                                         #first element of series\n",
        "s=1                                         #second element of series\n",
        "if a<=0:\n",
        "    print(\"The requested series is : \",f)\n",
        "\n",
        "else:\n",
        "    print(f,s,end=\" \")\n",
        "    for x in range(2,a):\n",
        "        next=f+s                           \n",
        "        print(next,end=\" \")\n",
        "        f=s\n",
        "        s=next "
      ],
      "metadata": {
        "colab": {
          "base_uri": "https://localhost:8080/"
        },
        "id": "FKBqmbcEcK6-",
        "outputId": "c765798a-27bc-4142-ca60-b904847cfba3"
      },
      "execution_count": null,
      "outputs": [
        {
          "output_type": "stream",
          "name": "stdout",
          "text": [
            "Lab activity 3\n",
            "Enter the terms : 7\n",
            "0 1 1 2 3 5 8 "
          ]
        }
      ]
    },
    {
      "cell_type": "code",
      "source": [],
      "metadata": {
        "id": "dE2W005SnwiI"
      },
      "execution_count": null,
      "outputs": []
    },
    {
      "cell_type": "code",
      "source": [
        "print(\"Enter Marks Obtained in 5 Subjects: \")\n",
        "markOne = int(input())\n",
        "markTwo = int(input())\n",
        "markThree = int(input())\n",
        "markFour = int(input())\n",
        "markFive = int(input())\n",
        "\n",
        "tot = markOne+markTwo+markThree+markFour+markFive\n",
        "avg = tot/5\n",
        "\n",
        "if avg>=91 and avg<=100:\n",
        "    print(\"Your Grade is A1\")\n",
        "elif avg>=81 and avg<91:\n",
        "    print(\"Your Grade is A2\")\n",
        "elif avg>=71 and avg<81:\n",
        "    print(\"Your Grade is B1\")\n",
        "elif avg>=61 and avg<71:\n",
        "    print(\"Your Grade is B2\")\n",
        "elif avg>=51 and avg<61:\n",
        "    print(\"Your Grade is C1\")\n",
        "elif avg>=41 and avg<51:\n",
        "    print(\"Your Grade is C2\")\n",
        "elif avg>=33 and avg<41:\n",
        "    print(\"Your Grade is D\")\n",
        "elif avg>=21 and avg<33:\n",
        "    print(\"Your Grade is E1\")\n",
        "elif avg>=0 and avg<21:\n",
        "    print(\"Your Grade is E2\")\n",
        "else:\n",
        "    print(\"Invalid Input!\")\n",
        " "
      ],
      "metadata": {
        "id": "0c03KSlCcK85",
        "colab": {
          "base_uri": "https://localhost:8080/"
        },
        "outputId": "a6c07498-2c9e-4fe2-c817-dce44272b332"
      },
      "execution_count": null,
      "outputs": [
        {
          "output_type": "stream",
          "name": "stdout",
          "text": [
            "Enter Marks Obtained in 5 Subjects: \n",
            "100\n",
            "90\n",
            "93\n",
            "89\n",
            "88\n",
            "Your Grade is A1\n"
          ]
        }
      ]
    },
    {
      "cell_type": "code",
      "source": [
        "num = int(input(\"enter a number: \"))\n",
        " \n",
        "fac = 1\n",
        "i = 1\n",
        " \n",
        "while i <= num:\n",
        " fac = fac * i\n",
        " i = i + 1\n",
        " \n",
        "print(\"factorial of \", num, \" is \", fac)"
      ],
      "metadata": {
        "colab": {
          "base_uri": "https://localhost:8080/"
        },
        "id": "Bpw6VHD0oBEJ",
        "outputId": "c80dd8ec-123a-4753-ab0a-af6834e78853"
      },
      "execution_count": null,
      "outputs": [
        {
          "output_type": "stream",
          "name": "stdout",
          "text": [
            "enter a number: 3\n",
            "factorial of  3  is  6\n"
          ]
        }
      ]
    },
    {
      "cell_type": "code",
      "source": [
        " "
      ],
      "metadata": {
        "id": "4kMWBrJOoFzL"
      },
      "execution_count": null,
      "outputs": []
    },
    {
      "cell_type": "code",
      "source": [],
      "metadata": {
        "id": "Du4OXSzxnQ_V"
      },
      "execution_count": null,
      "outputs": []
    }
  ]
}