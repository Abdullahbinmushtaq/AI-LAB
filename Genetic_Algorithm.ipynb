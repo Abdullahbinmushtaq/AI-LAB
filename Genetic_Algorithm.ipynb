{
  "nbformat": 4,
  "nbformat_minor": 0,
  "metadata": {
    "colab": {
      "provenance": [],
      "name": "Genetic Algorithm.ipynb",
      "include_colab_link": true
    },
    "kernelspec": {
      "name": "python3",
      "display_name": "Python 3"
    },
    "language_info": {
      "name": "python"
    }
  },
  "cells": [
    {
      "cell_type": "markdown",
      "metadata": {
        "id": "view-in-github",
        "colab_type": "text"
      },
      "source": [
        "<a href=\"https://colab.research.google.com/github/Abdullahbinmushtaq/AI-LAB/blob/main/Genetic_Algorithm.ipynb\" target=\"_parent\"><img src=\"https://colab.research.google.com/assets/colab-badge.svg\" alt=\"Open In Colab\"/></a>"
      ]
    },
    {
      "cell_type": "markdown",
      "source": [
        "\n",
        "# **Genetic Algorithm**\n",
        "Consider maxOne problem where the goal is to arrange a string of L bits into all ones. At first the\n",
        "solution may seem trivial i.e., for L=8 the solution is [1, 1, 1, 1, 1, 1, 1, 1]. Despite this we shall see\n",
        "how many iterations it will take for an instance of genetic algorithm to find the solution.\n",
        "Solution:\n",
        "We start by looking at the GA class which is instantiated by providing individualSize (length of\n",
        "chromosome or L in our case) and populationSize (how many survivors will we retain in each\n",
        "generation). The instance variable population is a dictionary of items where each item contains a bit\n",
        "array of an individual and its heuristic distance from the goal. The variable totalFitness maintains the\n",
        "total heuristic value of each generation/population."
      ],
      "metadata": {
        "id": "lvBZB1cBrINT"
      }
    },
    {
      "cell_type": "code",
      "execution_count": 9,
      "metadata": {
        "id": "Xie-Y7pPdARN"
      },
      "outputs": [],
      "source": [
        "import random\n",
        "import math\n",
        "\n",
        "class GA:\n",
        "   def __init__(self, individualSize, populationSize):\n",
        "      self.population=dict()\n",
        "      self. individualSize = individualSize \n",
        "      self.populationSize = populationSize \n",
        "      self.totalFitness=0\n",
        "      i=0\n",
        "      while i < populationSize:\n",
        "         listOfBits = [0] * individualSize\n",
        "         listOfLocations = list(range(0,individualSize)) \n",
        "         numberOfOnes = random.randint(0, individualSize-1) \n",
        "         onesLocations = random.sample(listOfLocations,numberOfOnes) \n",
        "         for j in onesLocations:\n",
        "            listOfBits[j]=1\n",
        "            self.population[i]=[listOfBits, numberOfOnes] \n",
        "            self.totalFitness = self.totalFitness + numberOfOnes \n",
        "            i=i+1\n",
        "            \n",
        "   def updatePopulationFitness(self):\n",
        "      self.totalFitness = 0\n",
        "      for individual in self.population: \n",
        "         individualFitness=sum(self.population[individual][0])\n",
        "         self.population[individual][1] = individualFitness \n",
        "         self.totalFitness = self.totalFitness + individualFitness\n",
        "         \n",
        "   def selectParents(self):\n",
        "        rouletteWheel=[]\n",
        "        wheelSize=self.populationSize*5 \n",
        "        h_n=[]\n",
        "        for individual in self.population:\n",
        "            h_n.append(self.population[individual][1])\n",
        "        j=0\n",
        "        for individual in self.population:\n",
        "            individualLength=round(wheelSize*(h_n[j]/sum(h_n)))\n",
        "            j=j+1\n",
        "            if individualLength>0:\n",
        "                i=0\n",
        "                while i < individualLength:\n",
        "                    rouletteWheel.append(individual)\n",
        "                    i=i+1\n",
        "        random.shuffle(rouletteWheel)\n",
        "        parentIndices=[]\n",
        "        i=0\n",
        "        while i< self.populationSize: \n",
        "            parentIndices.append(rouletteWheel[\n",
        "                random.randint(0, len(rouletteWheel)-1)])\n",
        "            i=i+1 \n",
        "        newGeneration=dict()\n",
        "        i=0\n",
        "        while i < self.populationSize:\n",
        "            newGeneration[i]=self.population[parentIndices[i]].copy()\n",
        "            i=i+1\n",
        "        del self.population\n",
        "        self.population = newGeneration.copy() \n",
        "        self.updatePopulationFitness()\n",
        "        \n",
        "\n",
        "\n",
        "  #\n",
        "   def generateChildren(self, crossoverProbability):\n",
        "      numberOfPairs = round(crossoverProbability*self.populationSize/2) \n",
        "      individualIndices = list(range(0,self.populationSize)) \n",
        "      random.shuffle(individualIndices)\n",
        "      i=0\n",
        "      j=0\n",
        "      while i<numberOfPairs:\n",
        "        crossoverPoint=random.randint(0, self. individualSize-1) \n",
        "        child1=self.population[j][0][0:crossoverPoint]+self.population[j+1][0][crossoverPoint:] \n",
        "        child2=self.population[j+1][0][0:crossoverPoint]+self.population[j][0][crossoverPoint:] \n",
        "        self.population[j] = [child1, sum(child1)]\n",
        "        self.population[j+1] = [child2, sum(child2)]\n",
        "        i=i+1 \n",
        "        j=j+2\n",
        "      self.updatePopulationFitness()\n",
        "\n",
        "\n",
        "   def mutateChildren(self, mutationProbability):\n",
        "        numberOfBits = round(mutationProbability* \n",
        "                            self.populationSize*self.individualSize) \n",
        "        totallndices = list(range(0,self.populationSize*self.individualSize)) \n",
        "        random.shuffle(totallndices)\n",
        "        swapLocations = random.sample(totallndices,numberOfBits)\n",
        "\n",
        "        for loc in swapLocations:\n",
        "            individualIndex=math.floor(loc/self.individualSize) \n",
        "            bitIndex=math.floor(loc%self.individualSize)\n",
        "\n",
        "            if self.population[individualIndex][0][bitIndex]==0: \n",
        "                self.population[individualIndex][0][bitIndex]=1\n",
        "            else:\n",
        "                self.population[individualIndex][0][bitIndex]=0 \n",
        "        self.updatePopulationFitness()"
      ]
    },
    {
      "cell_type": "code",
      "source": [
        "individualSize, populationSize = 8, 10\n",
        "i=0\n",
        "instance = GA(individualSize,populationSize)\n",
        "while True:\n",
        " instance.selectParents()\n",
        " instance.generateChildren(0.8) \n",
        " instance.mutateChildren(0.03)\n",
        " print(instance.population)\n",
        " print(instance.totalFitness)\n",
        " print(i)\n",
        " i=i+1\n",
        " found=False\n",
        " for individual in instance.population:\n",
        "   if instance.population[individual][1]==individualSize:      \n",
        "     found=True\n",
        "     break\n",
        " if found:\n",
        "   break"
      ],
      "metadata": {
        "colab": {
          "base_uri": "https://localhost:8080/"
        },
        "id": "r0sJ46oLfDMr",
        "outputId": "1697027f-d07a-4da9-fb85-158483e58ed6"
      },
      "execution_count": 10,
      "outputs": [
        {
          "output_type": "stream",
          "name": "stdout",
          "text": [
            "{0: [[1, 1, 0, 1, 1, 1, 1, 1], 7], 1: [[1, 1, 0, 1, 1, 0, 1, 1], 6], 2: [[1, 1, 0, 1, 1, 1, 1, 1], 7], 3: [[1, 1, 0, 1, 1, 1, 1, 1], 7], 4: [[1, 1, 0, 1, 1, 1, 1, 1], 7], 5: [[1, 1, 0, 1, 1, 1, 1, 1], 7], 6: [[1, 1, 1, 1, 1, 0, 1, 1], 7], 7: [[1, 1, 1, 1, 1, 0, 1, 1], 7], 8: [[1, 1, 0, 1, 1, 1, 1, 0], 6], 9: [[1, 1, 1, 1, 1, 0, 1, 1], 7]}\n",
            "68\n",
            "0\n",
            "{0: [[1, 0, 1, 1, 0, 0, 1, 1], 5], 1: [[1, 1, 0, 1, 1, 1, 1, 1], 7], 2: [[1, 1, 1, 1, 1, 0, 1, 1], 7], 3: [[1, 1, 0, 1, 1, 1, 1, 1], 7], 4: [[1, 1, 0, 1, 1, 0, 1, 1], 6], 5: [[1, 1, 1, 1, 1, 1, 1, 1], 8], 6: [[1, 1, 0, 1, 1, 1, 1, 1], 7], 7: [[1, 1, 1, 1, 1, 0, 1, 1], 7], 8: [[1, 1, 0, 1, 1, 1, 1, 1], 7], 9: [[1, 1, 0, 1, 1, 1, 1, 1], 7]}\n",
            "68\n",
            "1\n"
          ]
        }
      ]
    },
    {
      "cell_type": "markdown",
      "source": [],
      "metadata": {
        "id": "OFJXBK9r2KHQ"
      }
    },
    {
      "cell_type": "code",
      "source": [],
      "metadata": {
        "id": "DmH9rHifmsy5"
      },
      "execution_count": null,
      "outputs": []
    }
  ]
}